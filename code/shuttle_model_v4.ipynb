{
  "nbformat": 4,
  "nbformat_minor": 0,
  "metadata": {
    "colab": {
      "provenance": []
    },
    "kernelspec": {
      "name": "python3",
      "display_name": "Python 3"
    },
    "language_info": {
      "name": "python"
    }
  },
  "cells": [
    {
      "cell_type": "code",
      "execution_count": 1,
      "metadata": {
        "id": "Axlz9UBklf6s"
      },
      "outputs": [],
      "source": [
        "import pandas as pd\n",
        "import numpy as np\n",
        "from sklearn.ensemble import RandomForestRegressor\n",
        "from sklearn.model_selection import train_test_split\n",
        "from sklearn.metrics import mean_squared_error\n",
        "import datetime\n",
        "import matplotlib.pyplot as plt\n",
        "import seaborn as sns\n",
        "from google.colab import drive"
      ]
    },
    {
      "cell_type": "code",
      "source": [
        "drive.mount('/content/drive')\n",
        "PATH = '/content/drive/My Drive/Colab Notebooks/homerun/'\n",
        "real_data_path = f'{PATH}arrival_data2.csv'\n",
        "timetable_path = f'{PATH}gStation3.csv'\n",
        "\n",
        "def time_to_minutes(time_str):\n",
        "  # 시간 -> 분\n",
        "  hours, minutes = map(int, time_str.split(':'))\n",
        "  return hours * 60 + minutes\n",
        "\n",
        "def minutes_to_time(minutes):\n",
        "  # 분 -> 시간\n",
        "  hours = minutes // 60\n",
        "  mins = minutes % 60\n",
        "  return f\"{hours:02d}:{mins:02d}\""
      ],
      "metadata": {
        "colab": {
          "base_uri": "https://localhost:8080/"
        },
        "id": "D70AjqgEmDPP",
        "outputId": "fa7c4c06-5de7-44f1-ee56-f788ca03a8e0"
      },
      "execution_count": 2,
      "outputs": [
        {
          "output_type": "stream",
          "name": "stdout",
          "text": [
            "Mounted at /content/drive\n"
          ]
        }
      ]
    },
    {
      "cell_type": "code",
      "source": [
        "# 1. 데이터 로드\n",
        "real_data = pd.read_csv(real_data_path)\n",
        "timetable = pd.read_csv(timetable_path)\n",
        "\n",
        "print(\"\\ntimetable data:\\n\", timetable.head())\n",
        "print(\"\\narrival data:\\n\", real_data.head())"
      ],
      "metadata": {
        "colab": {
          "base_uri": "https://localhost:8080/"
        },
        "id": "8ONVY4L5m_fD",
        "outputId": "ee4bdb23-a5a8-4c87-9eb5-f7d85fbad148"
      },
      "execution_count": 15,
      "outputs": [
        {
          "output_type": "stream",
          "name": "stdout",
          "text": [
            "\n",
            "timetable data:\n",
            "    FIXED MON_SCHOOL_DEPART MON_STATION_DEPART MON_SCHOOL_ARRIVE  \\\n",
            "0  False              7:55               8:10              8:25   \n",
            "1   True              8:00               8:15              8:30   \n",
            "2  False              8:02               8:17              8:32   \n",
            "3  False              8:03               8:18              8:33   \n",
            "4   True              8:05               8:20              8:35   \n",
            "\n",
            "  TUE_SCHOOL_DEPART TUE_STATION_DEPART TUE_SCHOOL_ARRIVE WED_SCHOOL_DEPART  \\\n",
            "0              7:55               8:10              8:25              7:55   \n",
            "1              8:00               8:15              8:30              8:00   \n",
            "2              8:02               8:17              8:32              8:02   \n",
            "3              8:03               8:18              8:33              8:03   \n",
            "4              8:05               8:20              8:35              8:05   \n",
            "\n",
            "  WED_STATION_DEPART WED_SCHOOL_ARRIVE THU_SCHOOL_DEPART THU_STATION_DEPART  \\\n",
            "0               8:10              8:25              7:55               8:10   \n",
            "1               8:15              8:30              8:00               8:15   \n",
            "2               8:17              8:32              8:02               8:17   \n",
            "3               8:18              8:33              8:03               8:18   \n",
            "4               8:20              8:35              8:05               8:20   \n",
            "\n",
            "  THU_SCHOOL_ARRIVE FRI_SCHOOL_DEPART FRI_STATION_DEPART FRI_SCHOOL_ARRIVE  \n",
            "0              8:25              7:55               8:10              8:25  \n",
            "1              8:30              8:00               8:15              8:30  \n",
            "2              8:32              8:02               8:17              8:32  \n",
            "3              8:33              8:03               8:18              8:33  \n",
            "4              8:35              8:05               8:20              8:35  \n",
            "\n",
            "arrival data:\n",
            "   ARRIVAL_TIME  DAY DEPART_AT\n",
            "0         8:15  MON       STA\n",
            "1         8:17  MON       STA\n",
            "2        10:00  MON       SCH\n",
            "3        10:05  MON       SCH\n",
            "4        10:16  MON       STA\n"
          ]
        }
      ]
    },
    {
      "cell_type": "code",
      "source": [
        "# 2. 데이터 전처리 시작\n",
        "days = ['MON', 'TUE', 'WED', 'THU', 'FRI']\n",
        "\n",
        "# 시간 data -> minutes로 변환\n",
        "for day in days:\n",
        "  timetable[f'{day}_SCHOOL_DEPART'] = timetable[f'{day}_SCHOOL_DEPART'].apply(time_to_minutes)\n",
        "  timetable[f'{day}_STATION_DEPART'] = timetable[f'{day}_STATION_DEPART'].apply(time_to_minutes)\n",
        "  timetable[f'{day}_SCHOOL_ARRIVE'] = timetable[f'{day}_SCHOOL_ARRIVE'].apply(time_to_minutes)\n",
        "\n",
        "real_data['ARRIVAL_TIME'] = real_data['ARRIVAL_TIME'].apply(time_to_minutes)\n",
        "\n",
        "print(\"\\ntimetable data:\\n\", timetable.head())\n",
        "print(\"\\narrival data:\\n\", real_data.head())"
      ],
      "metadata": {
        "colab": {
          "base_uri": "https://localhost:8080/"
        },
        "id": "Xb0nloFv4AYl",
        "outputId": "c68fad74-fea5-494b-e12d-1e4345ea9819"
      },
      "execution_count": 16,
      "outputs": [
        {
          "output_type": "stream",
          "name": "stdout",
          "text": [
            "\n",
            "timetable data:\n",
            "    FIXED  MON_SCHOOL_DEPART  MON_STATION_DEPART  MON_SCHOOL_ARRIVE  \\\n",
            "0  False                475                 490                505   \n",
            "1   True                480                 495                510   \n",
            "2  False                482                 497                512   \n",
            "3  False                483                 498                513   \n",
            "4   True                485                 500                515   \n",
            "\n",
            "   TUE_SCHOOL_DEPART  TUE_STATION_DEPART  TUE_SCHOOL_ARRIVE  \\\n",
            "0                475                 490                505   \n",
            "1                480                 495                510   \n",
            "2                482                 497                512   \n",
            "3                483                 498                513   \n",
            "4                485                 500                515   \n",
            "\n",
            "   WED_SCHOOL_DEPART  WED_STATION_DEPART  WED_SCHOOL_ARRIVE  \\\n",
            "0                475                 490                505   \n",
            "1                480                 495                510   \n",
            "2                482                 497                512   \n",
            "3                483                 498                513   \n",
            "4                485                 500                515   \n",
            "\n",
            "   THU_SCHOOL_DEPART  THU_STATION_DEPART  THU_SCHOOL_ARRIVE  \\\n",
            "0                475                 490                505   \n",
            "1                480                 495                510   \n",
            "2                482                 497                512   \n",
            "3                483                 498                513   \n",
            "4                485                 500                515   \n",
            "\n",
            "   FRI_SCHOOL_DEPART  FRI_STATION_DEPART  FRI_SCHOOL_ARRIVE  \n",
            "0                475                 490                505  \n",
            "1                480                 495                510  \n",
            "2                482                 497                512  \n",
            "3                483                 498                513  \n",
            "4                485                 500                515  \n",
            "\n",
            "arrival data:\n",
            "    ARRIVAL_TIME  DAY DEPART_AT\n",
            "0           495  MON       STA\n",
            "1           497  MON       STA\n",
            "2           600  MON       SCH\n",
            "3           605  MON       SCH\n",
            "4           616  MON       STA\n"
          ]
        }
      ]
    },
    {
      "cell_type": "markdown",
      "source": [
        "# DAY_SCHOOL_ARRIVE 데이터는 언제 도착한다고 알려줄 때 전혀 쓰지 않아서 필요 없을수도?"
      ],
      "metadata": {
        "id": "z36zYfuBJ9wJ"
      }
    },
    {
      "cell_type": "code",
      "source": [
        "# Training data 생성\n",
        "training_data = []\n",
        "\n",
        "# 셔틀이 절!대 없는 시간대\n",
        "NO_SHUTTLE_TIME = [\n",
        "    [\"00:00\", \"07:40\"],\n",
        "    [\"08:30\", \"08:40\"],\n",
        "    [\"09:30\", \"09:40\"],\n",
        "    [\"10:30\", \"11:45\"],\n",
        "    [\"12:30\", \"12:45\"],\n",
        "    [\"13:30\", \"13:45\"],\n",
        "    [\"14:30\", \"14:45\"],\n",
        "    [\"18:45\", \"19:05\"],\n",
        "    [\"19:45\", \"24:00\"]\n",
        "]\n",
        "# 분으로 변환\n",
        "NO_SHUTTLE_TIME = [[time_to_minutes(start), time_to_minutes(end)] for start, end in NO_SHUTTLE_TIME]\n",
        "\n",
        "for day in days:\n",
        "\n",
        "  # Real data 전처리\n",
        "  day_arrivals = real_data[real_data['DAY'] == day]\n",
        "\n",
        "  # 가짜 데이터 걸러내기\n",
        "  for start, end in NO_SHUTTLE_TIME:\n",
        "    day_arrivals = day_arrivals[\n",
        "        ~((day_arrivals['ARRIVAL_TIME'] >= start) &\n",
        "          (day_arrivals['ARRIVAL_TIME'] <= end))\n",
        "    ]\n",
        "\n",
        "  # Timetable data 전처리\n",
        "  false_rows = timetable[~timetable['FIXED']]\n",
        "\n",
        "  for _, row in false_rows.iterrows():\n",
        "    planned_school_depart = row[f'{day}_SCHOOL_DEPART']\n",
        "    planned_station_depart = row[f'{day}_STATION_DEPART']\n",
        "    planned_school_arrive = row[f'{day}_SCHOOL_ARRIVE']\n",
        "\n",
        "    # 해당 시간대 근처의 실제 도착 데이터 찾기\n",
        "    station_arrivals = day_arrivals[day_arrivals['DEPART_AT'] == 'STA']\n",
        "    nearby_station = station_arrivals[\n",
        "        (station_arrivals['ARRIVAL_TIME'] >= planned_station_depart - 15) &\n",
        "        (station_arrivals['ARRIVAL_TIME'] <= planned_station_depart + 15)\n",
        "    ]\n",
        "\n",
        "    school_arrivals = day_arrivals[day_arrivals['DEPART_AT'] == 'SCH']\n",
        "    nearby_school = school_arrivals[\n",
        "        (school_arrivals['ARRIVAL_TIME'] >= planned_school_depart - 15) &\n",
        "        (school_arrivals['ARRIVAL_TIME'] <= planned_school_depart + 15)\n",
        "    ]\n",
        "\n",
        "    if len(nearby_station) > 0 or len(nearby_school) > 0:\n",
        "      features = {\n",
        "          'day': day,\n",
        "          'planned_school_depart': planned_school_depart,\n",
        "          'planned_station_depart': planned_station_depart,\n",
        "          'planned_school_arrive': planned_school_arrive,\n",
        "          'num_nearby_station': len(nearby_station),\n",
        "          'num_nearby_school': len(nearby_school),\n",
        "          'mean_station_diff': nearby_station['ARRIVAL_TIME'].mean() - planned_station_depart if len(nearby_station) > 0 else 0,\n",
        "          'mean_school_diff': nearby_school['ARRIVAL_TIME'].mean() - planned_school_depart if len(nearby_school) > 0 else 0,\n",
        "          'std_station_diff': nearby_station['ARRIVAL_TIME'].std() if len(nearby_station) > 1 else 0,\n",
        "          'std_school_diff': nearby_school['ARRIVAL_TIME'].std() if len(nearby_school) > 1 else 0,\n",
        "          'planned_travel_time': planned_station_depart - planned_school_depart\n",
        "      }\n",
        "\n",
        "      if len(nearby_station) > 0:\n",
        "        target = nearby_station['ARRIVAL_TIME'].mean() - planned_station_depart\n",
        "      else:\n",
        "        target = nearby_school['ARRIVAL_TIME'].mean() - planned_school_depart\n",
        "\n",
        "      training_data.append({**features, 'target': target})"
      ],
      "metadata": {
        "id": "Yn1Pecye55r1"
      },
      "execution_count": 28,
      "outputs": []
    },
    {
      "cell_type": "code",
      "source": [
        "training_data[:5]"
      ],
      "metadata": {
        "colab": {
          "base_uri": "https://localhost:8080/"
        },
        "id": "17nSKzA_G4dv",
        "outputId": "b4ea1937-595d-4934-8266-f530f0e8b8af"
      },
      "execution_count": 37,
      "outputs": [
        {
          "output_type": "execute_result",
          "data": {
            "text/plain": [
              "[{'day': 'MON',\n",
              "  'planned_school_depart': 475,\n",
              "  'planned_station_depart': 490,\n",
              "  'planned_school_arrive': 505,\n",
              "  'num_nearby_station': 2,\n",
              "  'num_nearby_school': 0,\n",
              "  'mean_station_diff': 6.0,\n",
              "  'mean_school_diff': 0,\n",
              "  'std_station_diff': 1.4142135623730951,\n",
              "  'std_school_diff': 0,\n",
              "  'planned_travel_time': 15,\n",
              "  'target': 6.0},\n",
              " {'day': 'MON',\n",
              "  'planned_school_depart': 482,\n",
              "  'planned_station_depart': 497,\n",
              "  'planned_school_arrive': 512,\n",
              "  'num_nearby_station': 2,\n",
              "  'num_nearby_school': 0,\n",
              "  'mean_station_diff': -1.0,\n",
              "  'mean_school_diff': 0,\n",
              "  'std_station_diff': 1.4142135623730951,\n",
              "  'std_school_diff': 0,\n",
              "  'planned_travel_time': 15,\n",
              "  'target': -1.0},\n",
              " {'day': 'MON',\n",
              "  'planned_school_depart': 483,\n",
              "  'planned_station_depart': 498,\n",
              "  'planned_school_arrive': 513,\n",
              "  'num_nearby_station': 2,\n",
              "  'num_nearby_school': 0,\n",
              "  'mean_station_diff': -2.0,\n",
              "  'mean_school_diff': 0,\n",
              "  'std_station_diff': 1.4142135623730951,\n",
              "  'std_school_diff': 0,\n",
              "  'planned_travel_time': 15,\n",
              "  'target': -2.0},\n",
              " {'day': 'MON',\n",
              "  'planned_school_depart': 585,\n",
              "  'planned_station_depart': 600,\n",
              "  'planned_school_arrive': 615,\n",
              "  'num_nearby_station': 0,\n",
              "  'num_nearby_school': 1,\n",
              "  'mean_station_diff': 0,\n",
              "  'mean_school_diff': 15.0,\n",
              "  'std_station_diff': 0,\n",
              "  'std_school_diff': 0,\n",
              "  'planned_travel_time': 15,\n",
              "  'target': 15.0},\n",
              " {'day': 'MON',\n",
              "  'planned_school_depart': 602,\n",
              "  'planned_station_depart': 617,\n",
              "  'planned_school_arrive': 632,\n",
              "  'num_nearby_station': 1,\n",
              "  'num_nearby_school': 2,\n",
              "  'mean_station_diff': -1.0,\n",
              "  'mean_school_diff': 0.5,\n",
              "  'std_station_diff': 0,\n",
              "  'std_school_diff': 3.5355339059327378,\n",
              "  'planned_travel_time': 15,\n",
              "  'target': -1.0}]"
            ]
          },
          "metadata": {},
          "execution_count": 37
        }
      ]
    }
  ]
}